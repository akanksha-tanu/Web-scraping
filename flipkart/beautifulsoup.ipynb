{
 "metadata": {
  "language_info": {
   "codemirror_mode": {
    "name": "ipython",
    "version": 3
   },
   "file_extension": ".py",
   "mimetype": "text/x-python",
   "name": "python",
   "nbconvert_exporter": "python",
   "pygments_lexer": "ipython3",
   "version": "3.9.2"
  },
  "orig_nbformat": 4,
  "kernelspec": {
   "name": "python3",
   "display_name": "Python 3.9.2 64-bit"
  },
  "interpreter": {
   "hash": "7f4850813c4f0ef5aeb287b6cd55218b48106b6d1432cc204eb5d2c6cab844e1"
  }
 },
 "nbformat": 4,
 "nbformat_minor": 2,
 "cells": [
  {
   "source": [
    "# Web scraping"
   ],
   "cell_type": "markdown",
   "metadata": {}
  },
  {
   "source": [
    "- to extract large amount of data from certain website\n",
    "- webpage------>web scraping----->structured data"
   ],
   "cell_type": "markdown",
   "metadata": {}
  },
  {
   "source": [
    "Steps \n",
    "----\n",
    "1. find url\n",
    "2. inspecting page \n",
    "3. find data you want to extract \n",
    "4. code \n",
    "5. execute code \n",
    "6. store data"
   ],
   "cell_type": "markdown",
   "metadata": {}
  },
  {
   "source": [
    "library - \n",
    "- beautiful soup from bs4\n",
    "- requests - with this we can make a request to a web page \n"
   ],
   "cell_type": "markdown",
   "metadata": {}
  },
  {
   "cell_type": "code",
   "execution_count": 1,
   "metadata": {},
   "outputs": [],
   "source": [
    "from bs4 import BeautifulSoup \n",
    "import requests \n",
    "import pandas as pd "
   ]
  },
  {
   "cell_type": "code",
   "execution_count": 2,
   "metadata": {},
   "outputs": [],
   "source": [
    "url=\"https://www.flipkart.com/laptops/pr?sid=6bo,b5g&otracker=categorytree&fm=neo%2Fmerchandising&iid=M_679e1819-41b0-432c-8713-1babb8b0caed_1_372UD5BXDFYS_MC.34WHNYFH5V2Y&otracker=hp_rich_navigation_7_1.navigationCard.RICH_NAVIGATION_Electronics~Laptop%2Band%2BDesktop_34WHNYFH5V2Y&otracker1=hp_rich_navigation_PINNED_neo%2Fmerchandising_NA_NAV_EXPANDABLE_navigationCard_cc_7_L1_view-all&cid=34WHNYFH5V2Y\""
   ]
  },
  {
   "cell_type": "code",
   "execution_count": 4,
   "metadata": {},
   "outputs": [
    {
     "output_type": "stream",
     "name": "stdout",
     "text": [
      "<Response [200]>\n"
     ]
    }
   ],
   "source": [
    "response=requests.get(url)\n",
    "print(response)\n",
    "#if response 200 - then request is granted"
   ]
  },
  {
   "cell_type": "code",
   "execution_count": 7,
   "metadata": {
    "tags": []
   },
   "outputs": [],
   "source": [
    "# print(response.content)\n",
    "htmlcontent=response.content"
   ]
  },
  {
   "cell_type": "code",
   "execution_count": 8,
   "metadata": {
    "tags": [
     "outputPrepend"
    ]
   },
   "outputs": [
    {
     "output_type": "stream",
     "name": "stdout",
     "text": [
      "/laptops/lenovo~brand/pr?sid=6bo,b5g\\\">thinkpad </a>that Flipkart offers. Make life simpler, at work and home, as you invest in modern technology that is offered to you by laptops.</p> <br/><p></p> <br/><p><br/></p> <br/><p></p> <br/><p>In the past few years, our lives have belonged to a certain kind of technology that has a peculiar kind of mind that makes life simpler and entertaining - The laptop. Fulfilling all your tasks at work and home,<b> <a href=\\\"/laptops-store\\\">laptops</a></b> can be distinguished based on their size, portability, user-friendly interface, processor speeds, RAM capacity, performance capabilities and affordability. Laptops are designed to suit all personal and personal requirements, thanks to the unlimited features it offers that meet your computing and multimedia needs with maximum efficiency. Not only do laptops perform several tasks and applications but also provide a list of entertainment features, like a HD viewing experience, magnificent graphics, high-end gaming support, splendid audio, and Bluetooth. Now you can sit at home and login to Flipkart to grab the most beneficial deals and buy the an effective laptop from an unbelievable collection of laptops. Make a style statement as you choose from an unending range of high-performance Notebooks, Ultrabooks and Netbooks that Flipkart offers. Make life simpler, at work and home, as you invest in modern technology that is offered to you by laptops. Have a look at brands like<a href=\\\"/laptops/lenovo~brand/pr?sid=6bo,b5g\\\"> Lenovo</a>, <a href=\\\"/q/hp-i5-laptops\\\">HP</a>, <a href=\\\"/q/dell-inspiron\\\">Dell</a>, <a href=\\\"/q/asus-zenbook-14\\\">Asus</a>, and so on.</p> Also Check: <a href=\\\"/laptops/lenovo~brand/pr?sid=6bo,b5g\\\">Lenovo Thinkpad</a>, <a href=\\\"/laptops/~best-dell-i5-laptops/pr?sid=6bo,b5g\\\">Dell i5 Laptop</a><br/><p></p><p>Check out new launch: <a href=\\\"/nokia-laptop-store\\\">Nokia Laptop</a>, <a href=\\\"/nokia-purebook-core-i5-10th-gen-8-gb-512-gb-ssd-windows-10-home-nki510ul85s-thin-light-laptop/p/itmdc10c8866a3a4\\\">Nokia Pure Book</a>, <a href=\\\"/vaio-laptops-store\\\">VAIO Laptops</a></p>\",\"description\":\"Best Deals on Branded Laptops and Laptop Exchange offers at India's Best Online Shopping Store. Check reviews of the product and Price in India and Buy Online. Free Shipping @ Flipkart.com - Flipkart.com\",\"googleSiteVerification\":false,\"h1\":\"\",\"headerContent\":\"<p>Sleek, compact, powerful laptops give you all the advantages of a desktop computer with added mobility and more. There are laptops for people who work on spreadsheets or presentations. For multimedia lovers, there are models with excellent screen resolution and <a href=\\\"/home-entertainment/mp3-playersipods-accessories/speakers/pr?sid=ckf,yxq,5ev\\\">speakers</a>. There are also gaming laptops. Choose the <a href=\\\"/laptops/dell~brand/pr?sid=6bo,b5g\\\">best dell laptops</a> that suits you. Looking for a particular brand? Flipkart has wide range of branded laptops like <a href=\\\"/laptops/lenovo~brand/pr?sid=6bo,b5g\\\">Lenovo</a>, Acer, <a href=\\\"/laptops/apple~brand/pr?sid=6bo,b5g\\\">Apple</a>, Asus, <a href=\\\"/laptops/~msi-gaming-laptops/pr?sid=6bo,b5g\\\">MSI</a>, <a href=\\\"/laptops/dell~brand/pr?sid=6bo,b5g\\\">Dell</a> you can browse and buy online shopping store.</p><p><br/></p><p>Also Check: <a href=\\\"/q/dell-latitude-laptops\\\">Dell Latitude Laptops</a>, <a href=\\\"/q/dell-latitude-e7440\\\">Dell Latitude e7440</a>, <a href=\\\"/computers/desktop-pcs/all-in-one-pcs/lenovo~brand/pr?sid=6bo,nl4,igk\\\">Lenovo PC</a></p>\",\"keywords\":\"Laptops,Buy  Laptops, Laptops online,Latest  Laptops\",\"noIndexSeo\":false,\"ogTitle\":\"Laptops Online - Budget Laptops at Best Prices in India at Flipkart.com\",\"redirectUrl\":{\"incorrectUrl\":false,\"overrideQueryParams\":null,\"path\":null},\"seoFooterTitle\":\"More about Laptops \",\"title\":\"Laptops Online - Budget Laptops at Best Prices in India at Flipkart.com\"}},\"asyncStatus\":\"SUCCESS\",\"answerBox\":{\"type\":\"ANSWER_BOX\",\"data\":{\"renderableComponents\":[{\"action\":null,\"metaData\":null,\"tracking\":null,\"trackingData\":null,\"value\":{\"type\":\"AnswerBoxValue\",\"data\":[{\"title\":\"ASUS VivoBook 15 Core i3 10th Gen - (8 GB/1 TB HDD/Windows 10 Home) X515JA-EJ322TS Thin and Light Laptop\",\"url\":\"/asus-vivobook-15-core-i3-10th-gen-8-gb-1-tb-hdd-windows-10-home-x515ja-ej322ts-thin-light-laptop/p/itm5cd03fd1bd5bc?pid=COMFZ53SSJQYYVTY&lid=LSTCOMFZ53SSJQYYVTYERZCP9&marketplace=FLIPKART\",\"values\":[\"Rs. 37990\"]},{\"title\":\"acer Aspire 7 Ryzen 5 Quad Core 3550H - (8 GB/512 GB SSD/Windows 10 Home/4 GB Graphics/NVIDIA GeForce GTX 1650 Ti) A715-41G-R7YZ Gaming Laptop\",\"url\":\"/acer-aspire-7-ryzen-5-quad-core-3550h-8-gb-512-gb-ssd-windows-10-home-4-graphics-nvidia-geforce-gtx-1650-ti-a715-41g-r7yz-gaming-laptop/p/itmd0a81b14dbe3f?pid=COMFVW9TGFYZZGFQ&lid=LSTCOMFVW9TGFYZZGFQWAXP94&marketplace=FLIPKART\",\"values\":[\"Rs. 50990\"]},{\"title\":\"MSI Modern 14 Ryzen 5 Hexa Core 4500U - (8 GB/512 GB SSD/Windows 10 Home) Modern 14 B4MW-410IN Notebook\",\"url\":\"/msi-modern-14-ryzen-5-hexa-core-4500u-8-gb-512-gb-ssd-windows-10-home-b4mw-410in-notebook/p/itm5042a4519fe01?pid=COMG2HQGNRRDBZVQ&lid=LSTCOMG2HQGNRRDBZVQP2IZDL&marketplace=FLIPKART\",\"values\":[\"Rs. 51990\"]},{\"title\":\"Lenovo IdeaPad Core i3 11th Gen - (8 GB/512 GB SSD/Windows 10 Home) 14ITL6 Thin and Light Laptop\",\"url\":\"/lenovo-ideapad-core-i3-11th-gen-8-gb-512-gb-ssd-windows-10-home-14itl6-thin-light-laptop/p/itme8ab9fb1c9c56?pid=COMG36BS4RHFNJRM&lid=LSTCOMG36BS4RHFNJRMFGANZB&marketplace=FLIPKART\",\"values\":[\"Rs. 44990\"]},{\"title\":\"acer Nitro 5 Ryzen 5 Hexa Core 4600H - (8 GB/1 TB HDD/256 GB SSD/Windows 10 Home/4 GB Graphics/NVIDIA GeForce GTX 1650) AN515-44-R9QA Gaming Laptop\",\"url\":\"/acer-nitro-5-ryzen-hexa-core-4600h-8-gb-1-tb-hdd-256-gb-ssd-windows-10-home-4-graphics-nvidia-geforce-gtx-1650-an515-44-r9qa-gaming-laptop/p/itm4302e2e2671a5?pid=COMFUR8X6RGZGYCJ&lid=LSTCOMFUR8X6RGZGYCJLMUQYG&marketplace=FLIPKART\",\"values\":[\"Rs. 66990\"]},{\"title\":\"ASUS Vivobook Gaming Core i5 9th Gen - (8 GB/512 GB SSD/Windows 10 Home/4 GB Graphics/NVIDIA GeForce GTX 1650) F571GT-BN913TS Gaming Laptop\",\"url\":\"/asus-vivobook-gaming-core-i5-9th-gen-8-gb-512-gb-ssd-windows-10-home-4-graphics-nvidia-geforce-gtx-1650-f571gt-bn913ts-laptop/p/itm8dba8769b86c8?pid=COMG26W4WKY8GUAR&lid=LSTCOMG26W4WKY8GUARCMASBH&marketplace=FLIPKART\",\"values\":[\"Rs. 54990\"]},{\"title\":\"Avita Cosmos 2 in 1 Celeron Dual Core - (4 GB/64 GB EMMC Storage/Windows 10 Home) NS12T5IN025P 2 in 1 Laptop\",\"url\":\"/avita-cosmos-2-1-celeron-dual-core-4-gb-64-gb-emmc-storage-windows-10-home-ns12t5in025p-laptop/p/itm58dac457d1be9?pid=COMGFUP2ZXMVW77T&lid=LSTCOMGFUP2ZXMVW77T2HJCX6&marketplace=FLIPKART\",\"values\":[\"Rs. 17990\"]},{\"title\":\"Lenovo IdeaPad 3 Core i5 10th Gen - (8 GB/1 TB HDD/Windows 10 Home) 15IIL05 Laptop\",\"url\":\"/lenovo-ideapad-3-core-i5-10th-gen-8-gb-1-tb-hdd-windows-10-home-15iil05-laptop/p/itmbfeb76dfb98dd?pid=COMG23RKF7NBG699&lid=LSTCOMG23RKF7NBG699MDAY6Y&marketplace=FLIPKART\",\"values\":[\"Rs. 44990\"]},{\"title\":\"ASUS ROG Zephyrus G14 Ryzen 9 Octa Core 4900HS - (16 GB/512 GB SSD/Windows 10 Home/6 GB Graphics/NVIDIA GeForce GTX 1660Ti/60 Hz) GA401IU-HA251TS Gaming Laptop\",\"url\":\"/asus-rog-zephyrus-g14-ryzen-9-octa-core-4900hs-16-gb-512-gb-ssd-windows-10-home-6-graphics-nvidia-geforce-gtx-1660ti-60-hz-ga401iu-ha251ts-gaming-laptop/p/itmf874581a4f2ed?pid=COMG2AFTH3UCUZTY&lid=LSTCOMG2AFTH3UCUZTYD9M6D2&marketplace=FLIPKART\",\"values\":[\"Rs. 108990\"]},{\"title\":\"APPLE MacBook Air M1 - (8 GB/256 GB SSD/Mac OS Big Sur) MGN63HN/A\",\"url\":\"/apple-macbook-air-m1-8-gb-256-gb-ssd-mac-os-big-sur-mgn63hn-a/p/itmde54f026889ce?pid=COMFXEKMGNHZYFH9&lid=LSTCOMFXEKMGNHZYFH9EOWT4E&marketplace=FLIPKART\",\"values\":[\"Rs. 92900\"]}],\"footer\":\"This data was last updated on 2021/06/18\",\"heading\":{\"title\":\"Laptops\",\"values\":[\"Price\"]}}}]},\"header\":{\"action\":null,\"metaData\":null,\"tracking\":null,\"trackingData\":null,\"value\":{\"type\":\"HeaderValue\",\"actionButton\":null,\"actionButtonArrowEnable\":null,\"actionButtonEnable\":null,\"actionButtonTextValue\":null,\"collapsed\":false,\"collapsible\":false,\"headerDetailsValue\":null,\"imageValue\":null,\"referenceImageValue\":null,\"showActionButton\":false,\"showHeader\":true,\"subTitleValue\":null,\"tags\":null,\"timerValue\":null,\"titleValue\":{\"type\":\"TitleValue\",\"image\":null,\"style\":null,\"text\":\"Laptops Price List\"}}}}},\"singleReview\":{\"asyncStatus\":\"INIT\"},\"stickyBasket\":{\"data\":{}},\"subscription\":{\"asyncStatus\":\"INIT\"},\"suggestions\":{},\"surveyState\":{\"asyncStatus\":\"INIT\"},\"swatches\":{\"asyncStatus\":\"INIT\",\"productSwatchDetails\":{}},\"tooltip\":{\"id\":null},\"userState\":{\"cart\":{\"fkItems\":[],\"groceryItems\":[],\"items\":[]},\"asyncStatus\":\"SUCCESS\",\"error\":null,\"abResponse\":{\"abDataId\":1777956446,\"abExperiments\":[{\"abId\":\"00790546\",\"appId\":\"Astra\",\"expId\":\"New Share Kit Experience\",\"layerName\":\"PP Other Content\",\"metadata\":{\"sharingKitExperimentEnabled\":true}},{\"abId\":\"017ccb4d\",\"appId\":\"sherlock\",\"expId\":\"sensitive_category_filter_2_june_2021\",\"layerName\":\"sherlock-matching\",\"metadata\":{\"bucket[]\":\"sc_filter\",\"trackingId\":\"sc_filter\"}},{\"abId\":\"03e23177\",\"appId\":\"Mapi\",\"expId\":\"GH | iOS login | Control\",\"layerName\":\"ios Login\",\"metadata\":{}},{\"abId\":\"0de2123b\",\"appId\":\"CRM\",\"expId\":\"big image fallback control\",\"layerName\":\"Push Notifications\",\"metadata\":{\"enableFallbackImagePN\":false}},{\"abId\":\"15f894bb\",\"appId\":\"TNS\",\"expId\":\"PP_exp_layer_9\",\"layerName\":\"rto_cod\",\"metadata\":{\"ruleModel\":\"ruleModelV1\",\"tnsModel\":\"mlModelV6dot1\",\"RTO_VALIDATION_RULE\":true}},{\"abId\":\"2549dd0c\",\"appId\":\"layout\",\"expId\":\"AA 4 May - Jun\",\"layerName\":\"Test Layer - AB team\",\"metadata\":{}},{\"abId\":\"27a7d00e\",\"appId\":\"G2N\",\"expId\":\"IVRS_Control\",\"layerName\":\"Return\",\"metadata\":{\"Ivrs_control\":true}},{\"abId\":\"27efdcd6\",\"appId\":\"Checkout\",\"expId\":\"AA 2 May - Jun\",\"layerName\":\"Test Layer - AB Team\",\"metadata\":{}},{\"abId\":\"2bd6549c\",\"appId\":\"sherlock\",\"expId\":\"EXP_PLA_20_60-100\",\"layerName\":\"sherlock-experience\",\"metadata\":{\"sourcerRuleAbKey\":\"enable_pla2_60-100\"}},{\"abId\":\"2da87f9a\",\"appId\":\"Checkout\",\"expId\":\"CSR - Donation @ CO Test\",\"layerName\":\"os_CRO\",\"metadata\":{\"enableCheckoutV4Experience\":true,\"enableCheckoutDonation\":true}},{\"abId\":\"2ed1c47c\",\"appId\":\"DiscJockey\",\"expId\":\"Control - 1st Dec\",\"layerName\":\"Product Page\",\"metadata\":{\"Header.X-RECO-CONTROLPP\":true,\"productPagePLASmartROIExperiment\":true}},{\"abId\":\"4cdfb4be\",\"appId\":\"Mapi\",\"expId\":\"TD Widget On HP - 4thJune2021\",\"layerName\":\"HomePage\",\"metadata\":{\"newap-homep-d9b50\":\"tdswi-homep-a72ca\",\"newap-homep-55db3\":\"tdswi-homep-8cc6e\"}},{\"abId\":\"4ed8701b\",\"appId\":\"FlipkartQuick\",\"expId\":\"PMU Experiment\",\"layerName\":\"Flipkart Quick\",\"metadata\":{\"flipk-categ-8daf8\":\"flipk-categ-83c4b\"}},{\"abId\":\"4f751862\",\"appId\":\"Mapi\",\"expId\":\"GH | Across app - Discount off absolute value | test 2\",\"layerName\":\"Android Login\",\"metadata\":{\"discountAmountEnabledVariant_FLIPKART\":\"showOnlyAmount\"}},{\"abId\":\"59a18ecf\",\"appId\":\"Mapi\",\"expId\":\"Voice FCP Test\",\"layerName\":\"VoiceAssistant\",\"metadata\":{\"voicePostUrl\":\"https://assistant.flipkart.net/1/speech/\",\"voiceWebsocketUrl\":\"wss://assistant.flipkart.net/1/speech/ws/join\"}},{\"abId\":\"5aece65b\",\"appId\":\"Astra\",\"expId\":\"GH | Color Change for Primary CTA | Test\",\"layerName\":\"PP CTA and Interstitial\",\"metadata\":{\"enableYellowCta\":true,\"reactNative.globalConfig.enableYellowCta\":true}},{\"abId\":\"6220ddd6\",\"appId\":\"DiscJockey\",\"expId\":\"Model Explore in DJ\",\"layerName\":\"Merchandising Homepage\",\"metadata\":{\"HOMEPAGE.explore.PCTR.explorePercent\":20,\"HOMEPAGE.explore.PCVR.enabled\":false,\"HOMEPAGE.explore.PCTR.exploreConstant\":1000,\"HOMEPAGE.explore.PCTR.enabled\":true}},{\"abId\":\"62a7e4a8\",\"appId\":\"G2N\",\"expId\":\"Price_Drop_Protection Control\",\"layerName\":\"Cancel\",\"metadata\":{\"pdp_action\":false}},{\"abId\":\"7b854a58\",\"appId\":\"Astra\",\"expId\":\"GH | PP listing Info | control - 16th June\",\"layerName\":\"PP Product Listing info\",\"metadata\":{}},{\"abId\":\"7e8cc113\",\"appId\":\"Astra\",\"expId\":\"GH - PP Spotlight of Reco widgets\",\"layerName\":\"PP Exploratory Content\",\"metadata\":{\"spotlightOnRecoEnabled\":true}},{\"abId\":\"807b1f61\",\"appId\":\"layout\",\"expId\":\"MMP_v0.3_Control_27May\",\"layerName\":\"Browse\",\"metadata\":{}},{\"abId\":\"8c74ce2f\",\"appId\":\"layout\",\"expId\":\"Premium Nav X4 Test - 9thMay2021\",\"layerName\":\"LandingPages\",\"metadata\":{\"cohor-homep-78e0f\":\"cohor-homep-7fe20\",\"cohor-homep-5c997\":\"cohor-homep-54b35\",\"cohor-homep-1b273\":\"cohor-homep-1970e\",\"cohor-homep-a7595\":\"cohor-homep-85df2\"}},{\"abId\":\"a73ff95e\",\"appId\":\"Checkout\",\"expId\":\"GH - Brand Warranty for Items | Test 1 without details\",\"layerName\":\"Cart_Product_Level\",\"metadata\":{\"enableBrandWarrantyCheckout_FLIPKART_msite\":true,\"enableBrandWarrantyCheckout_FLIPKART_iOS\":true,\"enableBrandWarrantyCart_FLIPKART_iOS\":true,\"enableBrandWarrantyCart_FLIPKART_msite\":true,\"enableBrandWarrantyCart_FLIPKART_Android\":true,\"enableBrandWarrantyCheckout_FLIPKART_Android\":true}},{\"abId\":\"b6ea98a6\",\"appId\":\"Checkout\",\"expId\":\"VPA on payment options page + Intl_Payment_fraud_v2\",\"layerName\":\"Paymets\",\"metadata\":{\"preload_captcha_page_resources\":2,\"footer_banner_experiment\":2,\"COD_captcha_1\":2,\"trust_marker_experiment\":2,\"vpa_payments_page\":2,\"captcha_v4_on_ios\":2,\"card_eligibility_check\":2}},{\"abId\":\"d455c14c\",\"appId\":\"CXSelfServe\",\"expId\":\"buy_again_bottom\",\"layerName\":\"PostOrderRelated\",\"metadata\":{\"buy_again_bottom\":true}},{\"abId\":\"d8806edf\",\"appId\":\"Mapi\",\"expId\":\"GH | backtest with ratings and urgency on cart\",\"layerName\":\"msite login\",\"metadata\":{\"showRatingsOnCart\":false,\"showUrgencyCallout\":false}},{\"abId\":\"e04ff105\",\"appId\":\"Checkout\",\"expId\":\"AOV Wall V2 for Repeat Users only - Reverse\",\"layerName\":\"SupermartTransact\",\"metadata\":{\"AOVWallV2Repeat\":true}},{\"abId\":\"e1e54ea6\",\"appId\":\"Mapi\",\"expId\":\"Similar over RnR EXP LS\",\"layerName\":\"Product\",\"metadata\":{\"lifes-produ-0fb39\":\"clone-produ-b92c7\",\"final-produ-b2f84\":\"clone-produ-1b1d2\",\"bgmhf-produ-a2a9d\":\"clone-produ-ceadf\",\"bgmhf-produ-f2720\":\"clone-produ-0fd00\",\"bgmhf-produ-e58ca\":\"clone-produ-64339\",\"layou-produ-fdffb\":\"clone-produ-26485\",\"similar_over_rnr\":true}},{\"abId\":\"eee5a1c7\",\"appId\":\"Videos\",\"expId\":\"Cross sell to VHP_Test\",\"layerName\":\"Videos HomePage\",\"metadata\":{}}]},\"groceryEnabled\":true,\"locale\":\"en\",\"location\":{\"communityStore\":null,\"selectedLocation\":null},\"lockinResponse\":{\"flipkartLogoAction\":{\"constraints\":null,\"fallback\":null,\"loginType\":\"LOGIN_NOT_REQUIRED\",\"omnitureData\":null,\"originalUrl\":\"/plus\",\"params\":{\"valid\":true,\"screenName\":\"LOYALTY_PAGE\"},\"requiredPermissionType\":null,\"screenType\":\"multiWidgetPage\",\"tracking\":{},\"type\":\"NAVIGATION\",\"url\":\"/plus\",\"validationMeta\":null},\"userMembershipState\":\"NON_LOGGED_IN\"},\"tmxTransactionId\":\"a1dd9b55-6800-4558-afb3-ad4204243716\",\"accountId\":null,\"asn\":null,\"firstName\":null,\"flipkartFirstUser\":false,\"isLoggedIn\":false,\"lastName\":null,\"ts\":0,\"twoFa\":false,\"omnitureInfo\":{\"additionProperties\":null,\"bucketId\":\"72\",\"ingestionEnabled\":false},\"userEmail\":null},\"winnerList\":{\"asyncStatus\":\"INIT\"},\"wishlistItemDetails\":{\"asyncStatus\":\"INIT\"},\"redeemVoucherReducer\":{\"asyncStatus\":\"INIT\"},\"apiError\":{},\"floodLights\":{\"visible\":false,\"isClickTriggered\":false},\"userAddressData\":{\"asyncStatus\":\"INIT\",\"data\":null},\"locationUpdate\":{\"asyncStatus\":\"INIT\",\"data\":{\"currentPincode\":\"\"}},\"productServiceabilityInfo\":{\"asyncStatus\":\"INIT\",\"data\":null},\"validate2Fa\":{\"asyncStatus\":\"INIT\"},\"actionViewReducer\":{\"asyncStatus\":\"INIT\"},\"notifPrefsAccordion\":{\"items\":[]},\"TravelSearchData\":{\"journeyList\":[{\"minDate\":\"2021-06-17T09:43:11.479Z\",\"journeyStartDate\":\"2021-06-18T09:43:11.479Z\",\"requestKey\":\"Fri Jun 18 2021 15:13:11 GMT+0530 (India Standard Time)\",\"origin\":{\"isDirty\":false,\"isEmpty\":true},\"dest\":{\"isDirty\":false,\"isEmpty\":true}}],\"selectedTripType\":\"ONE_WAY\",\"travellers\":{\"adult\":1,\"child\":0,\"infant\":0},\"fieldChanged\":\"EMPTY\",\"initialPrefillData\":{\"selectedTripType\":\"ONE_WAY\",\"travellers\":{\"adult\":1,\"child\":0,\"infant\":0},\"journeyList\":[{\"minDate\":\"2021-06-17T09:43:11.479Z\",\"journeyStartDate\":\"2021-06-18T09:43:11.479Z\",\"requestKey\":\"Fri Jun 18 2021 15:13:11 GMT+0530 (India Standard Time)\",\"origin\":{\"isDirty\":false,\"isEmpty\":true},\"dest\":{\"isDirty\":false,\"isEmpty\":true}}]}},\"TravelSearchValidation\":{\"isValid\":false},\"FareCalendarData\":{\"asyncStatus\":\"INIT\"},\"cityAutoSuggestion\":{},\"sectionSlotData\":{\"activeIndex\":0,\"sectionMetaData\":[]},\"wiggleValidationData\":{\"wiggleData\":{}},\"cbcApplyReducer\":{\"asyncStatus\":\"INIT\"}};</script><script nonce=\"3320125763022269314\">window.__BUNDLE_IDS__ = {\"children\":[{\"id\":\"navMenu\"}]};</script><script nonce=\"3320125763022269314\">window.omniture={tpv:[],tl:[]};window.omniture.trackPageView=function(){window.omniture.tpv.push(arguments)};window.omniture.trackLink=function(){window.omniture.tl.push(arguments)}\n\n    if(window.location.host === 'www.flipkart.com' || /\\.store\\.flipkart\\.com/i.test(window.location.host)){\n        window.s_account = \"flipkart-prd\"; //omniture account id\n    }else{\n        window.s_account = \"flipkart-prd-test\";\n    }\n    window.s_isDesktop = true;</script><script nonce=\"3320125763022269314\">if ('serviceWorker' in navigator && navigator.userAgent.indexOf(\"Mobile\") === -1) {\n\t\tnavigator.serviceWorker.register('/sw.js').then(function(registration) {\n\t\t\tconsole.log('ServiceWorker registration successful with scope: ', registration.scope);\n\t\t\tnavigator.onLine && navigator.serviceWorker.controller && navigator.serviceWorker.controller.postMessage('BANDWIDTH_COMPUTE');\n\t\t\tnavigator.serviceWorker.addEventListener('message', function (event) {\n\t\t\t\ttry {\n\t\t\t\t\tconst bandwidthData = JSON.parse(event.data);\n\t\t\t\t\tif (bandwidthData && bandwidthData.data) {\n\t\t\t\t\t\twindow.bandwidth = bandwidthData.data.downlink + '_' + bandwidthData.data.computeMethod + '_' + bandwidthData.data.effectiveType + '_' + bandwidthData.data.type;\n\t\t\t\t\t}\n\t\t\t\t}catch(err) {\n\t\t\t\t\tconsole.error('JSON.parse failed:', err);\n\t\t\t\t}\n\t\t\t});\n\t\t})\n\t\t.catch(function(err) {\n\t\t\tconsole.error('ServiceWorker registration failed: ', err);\n\t\t});\n\t} else if('serviceWorker' in navigator && navigator.userAgent.indexOf(\"Mobile\") > -1){\n        navigator.serviceWorker.getRegistration().then(function(registration) {\n            var serviceWorkerUnregistered=false;\n            if(registration) {\n                registration.unregister();\n                serviceWorkerUnregistered=true;\n            }\n            serviceWorkerUnregistered && window.location.reload();\n        });\n    }\n\n</script><script nonce=\"3320125763022269314\" src=\"//static-assets-web.flixcart.com/www/linchpin/fk-cp-zion/js/raven.3.22.3.js\"></script><script nonce=\"3320125763022269314\">window.Raven && window.Raven.config('https://b2fe488e344a47eda53b8d306edec9b7@sentry.flipkart.com/2',{\n\t\trelease: '4.40.0',\n\t\twhitelistUrls: [\n\t\t\t/flipkart\\.com/,\n\t\t\t/flixcart\\.com/\n\t\t],\n\t\tignoreErrors: [\n\t\t\t// Random plugins/extensions\n\t\t\t'top.GLOBALS',\n\t\t\t// See: http://blog.errorception.com/2012/03/tale-of-unfindable-js-error.html\n\t\t\t'originalCreateNotification',\n\t\t\t'canvas.contentDocument',\n\t\t\t'MyApp_RemoveAllHighlights',\n\t\t\t'atomicFindClose',\n\t\t\t// Facebook borked\n\t\t\t'fb_xd_fragment',\n\t\t\t// ISP \"optimizing\" proxy - `Cache-Control: no-transform` seems to reduce this. (thanks @acdha)\n\t\t\t// See http://stackoverflow.com/questions/4113268/how-to-stop-javascript-injection-from-vodafone-proxy\n\t\t\t'bmi_SafeAddOnload',\n\t\t\t'EBCallBackMessageReceived',\n\t\t\t'failed to fetch'\n\t\t],\n\t\tignoreUrls: [\n\t\t\t// Facebook flakiness\n\t\t\t/graph\\.facebook\\.com/i,\n\t\t\t// Facebook blocked\n\t\t\t/connect\\.facebook\\.net\\/en_US\\/all\\.js/i,\n\t\t\t// Chrome extensions\n\t\t\t/extensions\\//i,\n\t\t\t/^chrome:\\/\\//i\n\t\t],\n\t\tsanitizeKeys: ['nsid', 'secureToken', 'SN'],\n\t\tenvironment: 'production',\n\t\tsampleRate: 0.5\n\t}).install();\n\twindow.Raven && window.Raven.setUserContext({\n\t\taccountId: ''\n\t});</script><script async=\"\" defer=\"defer\" id=\"omni_script\" nonce=\"3320125763022269314\" src=\"//static-assets-web.flixcart.com/www/linchpin/batman-returns/omni/omni16.js\"></script> <script nonce=\"3320125763022269314\">window._pxAppId = 'PXgNtTli3A';</script><script async=\"\" nonce=\"3320125763022269314\" src=\"//static-assets-web.flixcart.com/px/gNtTli3A/init.js\"></script></body></html>>\n"
     ]
    }
   ],
   "source": [
    "# parsing html data using beautiful soup\n",
    "\n",
    "soup=BeautifulSoup(htmlcontent,'html.parser')\n",
    "print(soup.prettify)"
   ]
  },
  {
   "cell_type": "code",
   "execution_count": 34,
   "metadata": {},
   "outputs": [],
   "source": [
    "products=[]\n",
    "prices=[]\n",
    "ratings=[]\n",
    "\n",
    "# product=soup.find('div',attrs={'class':'_4rR01T'})\n",
    "# print(product.text)\n",
    "#for just one laptop"
   ]
  },
  {
   "cell_type": "code",
   "execution_count": 43,
   "metadata": {
    "tags": []
   },
   "outputs": [
    {
     "output_type": "stream",
     "name": "stdout",
     "text": [
      "72\n72\n72\n"
     ]
    }
   ],
   "source": [
    "for i in soup.findAll('a',href=True,attrs={'class':'_1fQZEK'}):\n",
    "    try:\n",
    "        product=i.find('div',attrs={'class':'_4rR01T'})\n",
    "        price=i.find('div',attrs={'class':'_30jeq3 _1_WHN1'})\n",
    "        rating=i.find('div',attrs={'class':'_3LWZlK'})\n",
    "        products.append(product.text)\n",
    "        prices.append(price.text)\n",
    "        ratings.append(rating.text)\n",
    "    except:\n",
    "        ratings.append(\"None\")\n",
    "        # print(\"exception\")\n",
    "print(len(products))\n",
    "print(len(ratings))\n",
    "print(len(prices))"
   ]
  },
  {
   "source": [
    "# Storing result in a particular format"
   ],
   "cell_type": "markdown",
   "metadata": {}
  },
  {
   "cell_type": "code",
   "execution_count": 44,
   "metadata": {},
   "outputs": [],
   "source": [
    "df=pd.DataFrame({'Product Name':products,'Price':prices,'Rating':ratings})"
   ]
  },
  {
   "cell_type": "code",
   "execution_count": 45,
   "metadata": {},
   "outputs": [
    {
     "output_type": "execute_result",
     "data": {
      "text/plain": [
       "                                        Product Name      Price Rating\n",
       "0  ASUS ROG Zephyrus G14 Ryzen 9 Octa Core 4900HS...  ₹1,08,990    4.3\n",
       "1  ASUS Ryzen 5 Quad Core 3500U - (8 GB/1 TB HDD/...    ₹41,990    3.9\n",
       "2  HP 15s Athlon Dual Core - (4 GB/1 TB HDD/Windo...    ₹27,490    4.1\n",
       "3  HP 14s Core i3 11th Gen - (8 GB/256 GB SSD/Win...    ₹41,990    4.6\n",
       "4  Lenovo IdeaPad 3 Core i5 10th Gen - (8 GB/1 TB...    ₹44,990      4"
      ],
      "text/html": "<div>\n<style scoped>\n    .dataframe tbody tr th:only-of-type {\n        vertical-align: middle;\n    }\n\n    .dataframe tbody tr th {\n        vertical-align: top;\n    }\n\n    .dataframe thead th {\n        text-align: right;\n    }\n</style>\n<table border=\"1\" class=\"dataframe\">\n  <thead>\n    <tr style=\"text-align: right;\">\n      <th></th>\n      <th>Product Name</th>\n      <th>Price</th>\n      <th>Rating</th>\n    </tr>\n  </thead>\n  <tbody>\n    <tr>\n      <th>0</th>\n      <td>ASUS ROG Zephyrus G14 Ryzen 9 Octa Core 4900HS...</td>\n      <td>₹1,08,990</td>\n      <td>4.3</td>\n    </tr>\n    <tr>\n      <th>1</th>\n      <td>ASUS Ryzen 5 Quad Core 3500U - (8 GB/1 TB HDD/...</td>\n      <td>₹41,990</td>\n      <td>3.9</td>\n    </tr>\n    <tr>\n      <th>2</th>\n      <td>HP 15s Athlon Dual Core - (4 GB/1 TB HDD/Windo...</td>\n      <td>₹27,490</td>\n      <td>4.1</td>\n    </tr>\n    <tr>\n      <th>3</th>\n      <td>HP 14s Core i3 11th Gen - (8 GB/256 GB SSD/Win...</td>\n      <td>₹41,990</td>\n      <td>4.6</td>\n    </tr>\n    <tr>\n      <th>4</th>\n      <td>Lenovo IdeaPad 3 Core i5 10th Gen - (8 GB/1 TB...</td>\n      <td>₹44,990</td>\n      <td>4</td>\n    </tr>\n  </tbody>\n</table>\n</div>"
     },
     "metadata": {},
     "execution_count": 45
    }
   ],
   "source": [
    "df.head()"
   ]
  },
  {
   "cell_type": "code",
   "execution_count": 46,
   "metadata": {},
   "outputs": [],
   "source": [
    "df.to_csv('laptops.csv')"
   ]
  },
  {
   "cell_type": "code",
   "execution_count": 47,
   "metadata": {},
   "outputs": [],
   "source": [
    "df.to_json('laptops.json')"
   ]
  },
  {
   "cell_type": "code",
   "execution_count": null,
   "metadata": {},
   "outputs": [],
   "source": []
  }
 ]
}