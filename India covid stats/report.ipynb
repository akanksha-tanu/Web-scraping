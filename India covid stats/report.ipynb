{
 "metadata": {
  "language_info": {
   "codemirror_mode": {
    "name": "ipython",
    "version": 3
   },
   "file_extension": ".py",
   "mimetype": "text/x-python",
   "name": "python",
   "nbconvert_exporter": "python",
   "pygments_lexer": "ipython3",
   "version": "3.9.2"
  },
  "orig_nbformat": 4,
  "kernelspec": {
   "name": "python3",
   "display_name": "Python 3.9.2 64-bit"
  },
  "interpreter": {
   "hash": "7f4850813c4f0ef5aeb287b6cd55218b48106b6d1432cc204eb5d2c6cab844e1"
  }
 },
 "nbformat": 4,
 "nbformat_minor": 2,
 "cells": [
  {
   "cell_type": "code",
   "execution_count": 42,
   "metadata": {},
   "outputs": [],
   "source": [
    "import requests\n",
    "from bs4 import BeautifulSoup\n",
    "import pandas as pd "
   ]
  },
  {
   "cell_type": "code",
   "execution_count": 43,
   "metadata": {
    "tags": []
   },
   "outputs": [],
   "source": [
    "response=requests.get('https://www.mygov.in/covid-19')\n",
    "# print(response.content)"
   ]
  },
  {
   "cell_type": "code",
   "execution_count": 44,
   "metadata": {},
   "outputs": [],
   "source": [
    "htmlcontent=response.content\n",
    "soup=BeautifulSoup(htmlcontent,'html.parser')"
   ]
  },
  {
   "cell_type": "code",
   "execution_count": 4,
   "metadata": {
    "tags": []
   },
   "outputs": [],
   "source": [
    "# print(soup.prettify)"
   ]
  },
  {
   "cell_type": "code",
   "execution_count": 5,
   "metadata": {
    "tags": []
   },
   "outputs": [],
   "source": [
    "# product=soup.findAll('div',attrs={'class':'views-row'})\n",
    "# print(product)"
   ]
  },
  {
   "cell_type": "code",
   "execution_count": 15,
   "metadata": {},
   "outputs": [],
   "source": [
    "# state=[]\n",
    "# confirm_cases=[]\n",
    "# active_cases=[]\n",
    "# discharged=[]\n",
    "# deaths=[]\n",
    "# vaccinated=[]\n",
    "\n",
    "# for i in soup.findAll('div',attrs={'class':'views-row'}):\n",
    "#     try:\n",
    "#         a=i.find('span',attrs={'class':'st_name'})\n",
    "#         b=i.find('span',attrs={'class':'st_number'})\n",
    "#         c=i.find('div',attrs={'class':'tick-active'})\n",
    "#         d=i.find('div',attrs={'class':'tick-discharged'})\n",
    "#         e=i.find('div',attrs={'class':'tick-death'})\n",
    "#         f=i.find('div',attrs={'class':'tick-total-vaccine'})\n",
    "#         # print(a,b)\n",
    "#         # print(f.text)\n",
    "#         state.append(a.text)\n",
    "#         confirm_cases.append(b.text)\n",
    "#         active_cases.append((c.text)[7:])\n",
    "#         discharged.append((d.text)[11:])\n",
    "#         deaths.append((e.text)[7:])\n",
    "#         vaccinated.append((f.text)[12:])\n",
    "        \n",
    "#     except:\n",
    "#         pass\n",
    "# print(vaccinated)\n",
    "# print(len(state),len(confirm_cases))\n",
    "\n"
   ]
  },
  {
   "cell_type": "code",
   "execution_count": 45,
   "metadata": {},
   "outputs": [
    {
     "output_type": "stream",
     "name": "stdout",
     "text": [
      "['Andaman and Nicobar', 'Andhra Pradesh', 'Arunachal Pradesh', 'Assam', 'Bihar', 'Chandigarh', 'Chhattisgarh', 'Dadra and Nagar Haveli and Daman and Diu', 'Delhi', 'Goa', 'Gujarat', 'Haryana', 'Himachal Pradesh', 'Jammu and Kashmir', 'Jharkhand', 'Karnataka', 'Kerala', 'Ladakh', 'Lakshadweep', 'Madhya Pradesh', 'Maharashtra', 'Manipur', 'Meghalaya', 'Mizoram', 'Nagaland', 'Odisha', 'Puducherry', 'Punjab', 'Rajasthan', 'Sikkim', 'Tamil Nadu', 'Telengana', 'Tripura', 'Uttar Pradesh', 'Uttarakhand', 'West Bengal']\n"
     ]
    }
   ],
   "source": [
    "def collect(upper,tag,clas=\"\"):\n",
    "    lis=[]\n",
    "    for i in soup.findAll('div',attrs={'class':upper}):\n",
    "        try:\n",
    "            if(clas==\"\"):\n",
    "                a=i.find(tag)\n",
    "            else:\n",
    "                a=i.find(tag,attrs={'class':clas})\n",
    "            lis.append(a.text)\n",
    "        except:\n",
    "            pass\n",
    "    return(lis)\n",
    "def remove_comma(lis):\n",
    "    l=[]\n",
    "    for ele in lis:\n",
    "        s=ele.replace(\",\",\"\")\n",
    "        l.append(s)\n",
    "    return(list(map(int,l)))\n",
    "    # return None\n",
    "\n",
    "state=collect('views-row',\"span\",'st_name')\n",
    "print(state)\n",
    "\n",
    "confirm_cases=collect('views-row','span','st_number')\n",
    "confirm_cases=remove_comma(confirm_cases)\n",
    "\n",
    "active_cases=collect('tick-active',\"small\")\n",
    "# print(active_cases)\n",
    "active_cases=remove_comma(active_cases)\n",
    "\n",
    "discharged=collect('tick-discharged','small')\n",
    "discharged=remove_comma(discharged)\n",
    "\n",
    "deaths=collect('tick-death','small')\n",
    "deaths=remove_comma(deaths)\n",
    "\n",
    "vaccinated=collect('tick-total-vaccine','small')\n",
    "vaccinated=remove_comma(vaccinated)\n",
    "\n",
    "# remove_comma([\"abh,hdgd,shdh\",\"gd,dhd,dhd\"])"
   ]
  },
  {
   "cell_type": "code",
   "execution_count": 47,
   "metadata": {},
   "outputs": [],
   "source": [
    "df=pd.DataFrame({'States':state,'Confirmed cases':confirm_cases,'Active cases':active_cases,'Discharged':discharged,'Deaths':deaths,'Vaccinated':vaccinated})"
   ]
  },
  {
   "cell_type": "code",
   "execution_count": 48,
   "metadata": {},
   "outputs": [
    {
     "output_type": "execute_result",
     "data": {
      "text/plain": [
       "                                      States  Confirmed caases  Active cases  \\\n",
       "0                        Andaman and Nicobar              7406           102   \n",
       "1                             Andhra Pradesh           1850563         63068   \n",
       "2                          Arunachal Pradesh             33081          2515   \n",
       "3                                      Assam            482505         33554   \n",
       "4                                      Bihar            719694          3189   \n",
       "5                                 Chandigarh             61430           353   \n",
       "6                               Chhattisgarh            990675          9192   \n",
       "7   Dadra and Nagar Haveli and Daman and Diu             10514            68   \n",
       "8                                      Delhi           1432292          2091   \n",
       "9                                        Goa            164436          3268   \n",
       "10                                   Gujarat            822334          6109   \n",
       "11                                   Haryana            767418          2491   \n",
       "12                          Himachal Pradesh            200410          2711   \n",
       "13                         Jammu and Kashmir            311794          8631   \n",
       "14                                 Jharkhand            344543          1596   \n",
       "15                                 Karnataka           2806453        126835   \n",
       "16                                    Kerala           2809394        106376   \n",
       "17                                    Ladakh             19805           363   \n",
       "18                               Lakshadweep              9443           319   \n",
       "19                            Madhya Pradesh            789261          2214   \n",
       "20                               Maharashtra           5972781        135363   \n",
       "21                                   Manipur             64065          9613   \n",
       "22                                 Meghalaya             45286          4587   \n",
       "23                                   Mizoram             17605          4132   \n",
       "24                                  Nagaland             24248          1890   \n",
       "25                                    Odisha            877502         33698   \n",
       "26                                Puducherry            114847          3562   \n",
       "27                                    Punjab            592303          7421   \n",
       "28                                 Rajasthan            951105          3079   \n",
       "29                                    Sikkim             19296          2697   \n",
       "30                                Tamil Nadu           2422497         69372   \n",
       "31                                 Telengana            613202         17765   \n",
       "32                                   Tripura             62324          3942   \n",
       "33                             Uttar Pradesh           1704358          4569   \n",
       "34                               Uttarakhand            338644          3136   \n",
       "35                               West Bengal           1481707         23016   \n",
       "\n",
       "    Discharged  Deaths  Vaccinated  \n",
       "0         7177     127      136695  \n",
       "1      1775176   12319    13932868  \n",
       "2        30407     159      480393  \n",
       "3       444743    4208     5355239  \n",
       "4       706955    9550    13671362  \n",
       "5        60271     806      452809  \n",
       "6       968096   13387     7563476  \n",
       "7        10442       4      308636  \n",
       "8      1405287   24914     6526767  \n",
       "9       158178    2990      759938  \n",
       "10      806193   10032    22080113  \n",
       "11      755681    9246     7354642  \n",
       "12      194257    3442     2819334  \n",
       "13      298911    4252     3968736  \n",
       "14      337848    5099     5773234  \n",
       "15     2645735   33883    18482685  \n",
       "16     2690958   12060    12145793  \n",
       "17       19240     202      199275  \n",
       "18        9078      46       51543  \n",
       "19      778280    8767    15011955  \n",
       "20     5719457  117961    27699399  \n",
       "21       53405    1047      565670  \n",
       "22       39919     780      590939  \n",
       "23       13390      83      428676  \n",
       "24       21889     469      399316  \n",
       "25      840214    3590     9838167  \n",
       "26      109562    1723      418469  \n",
       "27      569056   15826     6270666  \n",
       "28      939131    8895    21230677  \n",
       "29       16306     293      359370  \n",
       "30     2321928   31197    12680121  \n",
       "31      591870    3567           0  \n",
       "32       57732     650     1942646  \n",
       "33     1677611   22178    25593398  \n",
       "34      328473    7035     3555294  \n",
       "35     1441343   17348    19000432  "
      ],
      "text/html": "<div>\n<style scoped>\n    .dataframe tbody tr th:only-of-type {\n        vertical-align: middle;\n    }\n\n    .dataframe tbody tr th {\n        vertical-align: top;\n    }\n\n    .dataframe thead th {\n        text-align: right;\n    }\n</style>\n<table border=\"1\" class=\"dataframe\">\n  <thead>\n    <tr style=\"text-align: right;\">\n      <th></th>\n      <th>States</th>\n      <th>Confirmed caases</th>\n      <th>Active cases</th>\n      <th>Discharged</th>\n      <th>Deaths</th>\n      <th>Vaccinated</th>\n    </tr>\n  </thead>\n  <tbody>\n    <tr>\n      <th>0</th>\n      <td>Andaman and Nicobar</td>\n      <td>7406</td>\n      <td>102</td>\n      <td>7177</td>\n      <td>127</td>\n      <td>136695</td>\n    </tr>\n    <tr>\n      <th>1</th>\n      <td>Andhra Pradesh</td>\n      <td>1850563</td>\n      <td>63068</td>\n      <td>1775176</td>\n      <td>12319</td>\n      <td>13932868</td>\n    </tr>\n    <tr>\n      <th>2</th>\n      <td>Arunachal Pradesh</td>\n      <td>33081</td>\n      <td>2515</td>\n      <td>30407</td>\n      <td>159</td>\n      <td>480393</td>\n    </tr>\n    <tr>\n      <th>3</th>\n      <td>Assam</td>\n      <td>482505</td>\n      <td>33554</td>\n      <td>444743</td>\n      <td>4208</td>\n      <td>5355239</td>\n    </tr>\n    <tr>\n      <th>4</th>\n      <td>Bihar</td>\n      <td>719694</td>\n      <td>3189</td>\n      <td>706955</td>\n      <td>9550</td>\n      <td>13671362</td>\n    </tr>\n    <tr>\n      <th>5</th>\n      <td>Chandigarh</td>\n      <td>61430</td>\n      <td>353</td>\n      <td>60271</td>\n      <td>806</td>\n      <td>452809</td>\n    </tr>\n    <tr>\n      <th>6</th>\n      <td>Chhattisgarh</td>\n      <td>990675</td>\n      <td>9192</td>\n      <td>968096</td>\n      <td>13387</td>\n      <td>7563476</td>\n    </tr>\n    <tr>\n      <th>7</th>\n      <td>Dadra and Nagar Haveli and Daman and Diu</td>\n      <td>10514</td>\n      <td>68</td>\n      <td>10442</td>\n      <td>4</td>\n      <td>308636</td>\n    </tr>\n    <tr>\n      <th>8</th>\n      <td>Delhi</td>\n      <td>1432292</td>\n      <td>2091</td>\n      <td>1405287</td>\n      <td>24914</td>\n      <td>6526767</td>\n    </tr>\n    <tr>\n      <th>9</th>\n      <td>Goa</td>\n      <td>164436</td>\n      <td>3268</td>\n      <td>158178</td>\n      <td>2990</td>\n      <td>759938</td>\n    </tr>\n    <tr>\n      <th>10</th>\n      <td>Gujarat</td>\n      <td>822334</td>\n      <td>6109</td>\n      <td>806193</td>\n      <td>10032</td>\n      <td>22080113</td>\n    </tr>\n    <tr>\n      <th>11</th>\n      <td>Haryana</td>\n      <td>767418</td>\n      <td>2491</td>\n      <td>755681</td>\n      <td>9246</td>\n      <td>7354642</td>\n    </tr>\n    <tr>\n      <th>12</th>\n      <td>Himachal Pradesh</td>\n      <td>200410</td>\n      <td>2711</td>\n      <td>194257</td>\n      <td>3442</td>\n      <td>2819334</td>\n    </tr>\n    <tr>\n      <th>13</th>\n      <td>Jammu and Kashmir</td>\n      <td>311794</td>\n      <td>8631</td>\n      <td>298911</td>\n      <td>4252</td>\n      <td>3968736</td>\n    </tr>\n    <tr>\n      <th>14</th>\n      <td>Jharkhand</td>\n      <td>344543</td>\n      <td>1596</td>\n      <td>337848</td>\n      <td>5099</td>\n      <td>5773234</td>\n    </tr>\n    <tr>\n      <th>15</th>\n      <td>Karnataka</td>\n      <td>2806453</td>\n      <td>126835</td>\n      <td>2645735</td>\n      <td>33883</td>\n      <td>18482685</td>\n    </tr>\n    <tr>\n      <th>16</th>\n      <td>Kerala</td>\n      <td>2809394</td>\n      <td>106376</td>\n      <td>2690958</td>\n      <td>12060</td>\n      <td>12145793</td>\n    </tr>\n    <tr>\n      <th>17</th>\n      <td>Ladakh</td>\n      <td>19805</td>\n      <td>363</td>\n      <td>19240</td>\n      <td>202</td>\n      <td>199275</td>\n    </tr>\n    <tr>\n      <th>18</th>\n      <td>Lakshadweep</td>\n      <td>9443</td>\n      <td>319</td>\n      <td>9078</td>\n      <td>46</td>\n      <td>51543</td>\n    </tr>\n    <tr>\n      <th>19</th>\n      <td>Madhya Pradesh</td>\n      <td>789261</td>\n      <td>2214</td>\n      <td>778280</td>\n      <td>8767</td>\n      <td>15011955</td>\n    </tr>\n    <tr>\n      <th>20</th>\n      <td>Maharashtra</td>\n      <td>5972781</td>\n      <td>135363</td>\n      <td>5719457</td>\n      <td>117961</td>\n      <td>27699399</td>\n    </tr>\n    <tr>\n      <th>21</th>\n      <td>Manipur</td>\n      <td>64065</td>\n      <td>9613</td>\n      <td>53405</td>\n      <td>1047</td>\n      <td>565670</td>\n    </tr>\n    <tr>\n      <th>22</th>\n      <td>Meghalaya</td>\n      <td>45286</td>\n      <td>4587</td>\n      <td>39919</td>\n      <td>780</td>\n      <td>590939</td>\n    </tr>\n    <tr>\n      <th>23</th>\n      <td>Mizoram</td>\n      <td>17605</td>\n      <td>4132</td>\n      <td>13390</td>\n      <td>83</td>\n      <td>428676</td>\n    </tr>\n    <tr>\n      <th>24</th>\n      <td>Nagaland</td>\n      <td>24248</td>\n      <td>1890</td>\n      <td>21889</td>\n      <td>469</td>\n      <td>399316</td>\n    </tr>\n    <tr>\n      <th>25</th>\n      <td>Odisha</td>\n      <td>877502</td>\n      <td>33698</td>\n      <td>840214</td>\n      <td>3590</td>\n      <td>9838167</td>\n    </tr>\n    <tr>\n      <th>26</th>\n      <td>Puducherry</td>\n      <td>114847</td>\n      <td>3562</td>\n      <td>109562</td>\n      <td>1723</td>\n      <td>418469</td>\n    </tr>\n    <tr>\n      <th>27</th>\n      <td>Punjab</td>\n      <td>592303</td>\n      <td>7421</td>\n      <td>569056</td>\n      <td>15826</td>\n      <td>6270666</td>\n    </tr>\n    <tr>\n      <th>28</th>\n      <td>Rajasthan</td>\n      <td>951105</td>\n      <td>3079</td>\n      <td>939131</td>\n      <td>8895</td>\n      <td>21230677</td>\n    </tr>\n    <tr>\n      <th>29</th>\n      <td>Sikkim</td>\n      <td>19296</td>\n      <td>2697</td>\n      <td>16306</td>\n      <td>293</td>\n      <td>359370</td>\n    </tr>\n    <tr>\n      <th>30</th>\n      <td>Tamil Nadu</td>\n      <td>2422497</td>\n      <td>69372</td>\n      <td>2321928</td>\n      <td>31197</td>\n      <td>12680121</td>\n    </tr>\n    <tr>\n      <th>31</th>\n      <td>Telengana</td>\n      <td>613202</td>\n      <td>17765</td>\n      <td>591870</td>\n      <td>3567</td>\n      <td>0</td>\n    </tr>\n    <tr>\n      <th>32</th>\n      <td>Tripura</td>\n      <td>62324</td>\n      <td>3942</td>\n      <td>57732</td>\n      <td>650</td>\n      <td>1942646</td>\n    </tr>\n    <tr>\n      <th>33</th>\n      <td>Uttar Pradesh</td>\n      <td>1704358</td>\n      <td>4569</td>\n      <td>1677611</td>\n      <td>22178</td>\n      <td>25593398</td>\n    </tr>\n    <tr>\n      <th>34</th>\n      <td>Uttarakhand</td>\n      <td>338644</td>\n      <td>3136</td>\n      <td>328473</td>\n      <td>7035</td>\n      <td>3555294</td>\n    </tr>\n    <tr>\n      <th>35</th>\n      <td>West Bengal</td>\n      <td>1481707</td>\n      <td>23016</td>\n      <td>1441343</td>\n      <td>17348</td>\n      <td>19000432</td>\n    </tr>\n  </tbody>\n</table>\n</div>"
     },
     "metadata": {},
     "execution_count": 48
    }
   ],
   "source": [
    "df"
   ]
  },
  {
   "cell_type": "code",
   "execution_count": null,
   "metadata": {},
   "outputs": [],
   "source": []
  }
 ]
}
