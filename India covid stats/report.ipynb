{
 "metadata": {
  "language_info": {
   "codemirror_mode": {
    "name": "ipython",
    "version": 3
   },
   "file_extension": ".py",
   "mimetype": "text/x-python",
   "name": "python",
   "nbconvert_exporter": "python",
   "pygments_lexer": "ipython3",
   "version": "3.9.2"
  },
  "orig_nbformat": 4,
  "kernelspec": {
   "name": "python3",
   "display_name": "Python 3.9.2 64-bit"
  },
  "interpreter": {
   "hash": "7f4850813c4f0ef5aeb287b6cd55218b48106b6d1432cc204eb5d2c6cab844e1"
  }
 },
 "nbformat": 4,
 "nbformat_minor": 2,
 "cells": [
  {
   "cell_type": "code",
   "execution_count": 1,
   "metadata": {},
   "outputs": [],
   "source": [
    "import requests\n",
    "from bs4 import BeautifulSoup\n",
    "import pandas as pd "
   ]
  },
  {
   "cell_type": "code",
   "execution_count": 3,
   "metadata": {
    "tags": []
   },
   "outputs": [],
   "source": [
    "response=requests.get('https://www.mygov.in/covid-19')\n",
    "# print(response.content)"
   ]
  },
  {
   "cell_type": "code",
   "execution_count": 4,
   "metadata": {},
   "outputs": [],
   "source": [
    "htmlcontent=response.content\n",
    "soup=BeautifulSoup(htmlcontent,'html.parser')"
   ]
  },
  {
   "cell_type": "code",
   "execution_count": 4,
   "metadata": {
    "tags": []
   },
   "outputs": [],
   "source": [
    "# print(soup.prettify)"
   ]
  },
  {
   "cell_type": "code",
   "execution_count": 5,
   "metadata": {
    "tags": []
   },
   "outputs": [],
   "source": [
    "# product=soup.findAll('div',attrs={'class':'views-row'})\n",
    "# print(product)"
   ]
  },
  {
   "cell_type": "code",
   "execution_count": 15,
   "metadata": {},
   "outputs": [],
   "source": [
    "# state=[]\n",
    "# confirm_cases=[]\n",
    "# active_cases=[]\n",
    "# discharged=[]\n",
    "# deaths=[]\n",
    "# vaccinated=[]\n",
    "\n",
    "# for i in soup.findAll('div',attrs={'class':'views-row'}):\n",
    "#     try:\n",
    "#         a=i.find('span',attrs={'class':'st_name'})\n",
    "#         b=i.find('span',attrs={'class':'st_number'})\n",
    "#         c=i.find('div',attrs={'class':'tick-active'})\n",
    "#         d=i.find('div',attrs={'class':'tick-discharged'})\n",
    "#         e=i.find('div',attrs={'class':'tick-death'})\n",
    "#         f=i.find('div',attrs={'class':'tick-total-vaccine'})\n",
    "#         # print(a,b)\n",
    "#         # print(f.text)\n",
    "#         state.append(a.text)\n",
    "#         confirm_cases.append(b.text)\n",
    "#         active_cases.append((c.text)[7:])\n",
    "#         discharged.append((d.text)[11:])\n",
    "#         deaths.append((e.text)[7:])\n",
    "#         vaccinated.append((f.text)[12:])\n",
    "        \n",
    "#     except:\n",
    "#         pass\n",
    "# print(vaccinated)\n",
    "# print(len(state),len(confirm_cases))\n",
    "\n"
   ]
  },
  {
   "cell_type": "code",
   "execution_count": 5,
   "metadata": {},
   "outputs": [
    {
     "output_type": "stream",
     "name": "stdout",
     "text": [
      "['Andaman and Nicobar', 'Andhra Pradesh', 'Arunachal Pradesh', 'Assam', 'Bihar', 'Chandigarh', 'Chhattisgarh', 'Dadra and Nagar Haveli and Daman and Diu', 'Delhi', 'Goa', 'Gujarat', 'Haryana', 'Himachal Pradesh', 'Jammu and Kashmir', 'Jharkhand', 'Karnataka', 'Kerala', 'Ladakh', 'Lakshadweep', 'Madhya Pradesh', 'Maharashtra', 'Manipur', 'Meghalaya', 'Mizoram', 'Nagaland', 'Odisha', 'Puducherry', 'Punjab', 'Rajasthan', 'Sikkim', 'Tamil Nadu', 'Telengana', 'Tripura', 'Uttar Pradesh', 'Uttarakhand', 'West Bengal']\n"
     ]
    }
   ],
   "source": [
    "def collect(upper,tag,clas=\"\"):\n",
    "    lis=[]\n",
    "    for i in soup.findAll('div',attrs={'class':upper}):\n",
    "        try:\n",
    "            if(clas==\"\"):\n",
    "                a=i.find(tag)\n",
    "            else:\n",
    "                a=i.find(tag,attrs={'class':clas})\n",
    "            lis.append(a.text)\n",
    "        except:\n",
    "            pass\n",
    "    return(lis)\n",
    "def remove_comma(lis):\n",
    "    l=[]\n",
    "    for ele in lis:\n",
    "        s=ele.replace(\",\",\"\")\n",
    "        l.append(s)\n",
    "    return(list(map(int,l)))\n",
    "    # return None\n",
    "\n",
    "state=collect('views-row',\"span\",'st_name')\n",
    "print(state)\n",
    "\n",
    "confirm_cases=collect('views-row','span','st_number')\n",
    "confirm_cases=remove_comma(confirm_cases)\n",
    "\n",
    "active_cases=collect('tick-active',\"small\")\n",
    "# print(active_cases)\n",
    "active_cases=remove_comma(active_cases)\n",
    "\n",
    "discharged=collect('tick-discharged','small')\n",
    "discharged=remove_comma(discharged)\n",
    "\n",
    "deaths=collect('tick-death','small')\n",
    "deaths=remove_comma(deaths)\n",
    "\n",
    "vaccinated=collect('tick-total-vaccine','small')\n",
    "vaccinated=remove_comma(vaccinated)\n",
    "\n",
    "# remove_comma([\"abh,hdgd,shdh\",\"gd,dhd,dhd\"])"
   ]
  },
  {
   "cell_type": "code",
   "execution_count": 6,
   "metadata": {},
   "outputs": [],
   "source": [
    "df=pd.DataFrame({'States':state,'Confirmed caases':confirm_cases,'Active cases':active_cases,'Discharged':discharged,'Deaths':deaths,'Vaccinated':vaccinated})"
   ]
  },
  {
   "cell_type": "code",
   "execution_count": 7,
   "metadata": {},
   "outputs": [
    {
     "output_type": "execute_result",
     "data": {
      "text/plain": [
       "                                      States  Confirmed caases  Active cases  \\\n",
       "0                        Andaman and Nicobar              7415            97   \n",
       "1                             Andhra Pradesh           1853183         58140   \n",
       "2                          Arunachal Pradesh             33375          2539   \n",
       "3                                      Assam            485310         32625   \n",
       "4                                      Bihar            719939          3017   \n",
       "5                                 Chandigarh             61444           311   \n",
       "6                               Chhattisgarh            991171          8564   \n",
       "7   Dadra and Nagar Haveli and Daman and Diu             10516            60   \n",
       "8                                      Delhi           1432381          1996   \n",
       "9                                        Goa            164654          3066   \n",
       "10                                   Gujarat            822485          5639   \n",
       "11                                   Haryana            767580          2337   \n",
       "12                          Himachal Pradesh            200603          2408   \n",
       "13                         Jammu and Kashmir            312156          7759   \n",
       "14                                 Jharkhand            344665          1489   \n",
       "15                                 Karnataka           2811320        123156   \n",
       "16                                    Kerala           2816843        100135   \n",
       "17                                    Ladakh             19838           365   \n",
       "18                               Lakshadweep              9471           319   \n",
       "19                            Madhya Pradesh            789350          1980   \n",
       "20                               Maharashtra           5979051        127523   \n",
       "21                                   Manipur             64418          9298   \n",
       "22                                 Meghalaya             45555          4196   \n",
       "23                                   Mizoram             17979          4227   \n",
       "24                                  Nagaland             24374          1844   \n",
       "25                                    Odisha            880533         32099   \n",
       "26                                Puducherry            115080          3364   \n",
       "27                                    Punjab            592658          6477   \n",
       "28                                 Rajasthan            951256          2691   \n",
       "29                                    Sikkim             19321          2448   \n",
       "30                                Tamil Nadu           2429924         61329   \n",
       "31                                 Telengana            614399         17246   \n",
       "32                                   Tripura             62745          3910   \n",
       "33                             Uttar Pradesh           1704476          4163   \n",
       "34                               Uttarakhand            338807          2964   \n",
       "35                               West Bengal           1483586         22740   \n",
       "\n",
       "    Discharged  Deaths  Vaccinated  \n",
       "0         7191     127      137476  \n",
       "1      1782680   12363    13995490  \n",
       "2        30677     159      494098  \n",
       "3       448442    4243     5719444  \n",
       "4       707365    9557    14230305  \n",
       "5        60327     806      459476  \n",
       "6       969212   13395     7654760  \n",
       "7        10452       4      317181  \n",
       "8      1405460   24925     6602862  \n",
       "9       158591    2997      775698  \n",
       "10      806812   10034    22591453  \n",
       "11      755968    9275     7855655  \n",
       "12      194747    3448     2918363  \n",
       "13      300135    4262     4005925  \n",
       "14      338076    5100     5874120  \n",
       "15     2654139   34025    19607865  \n",
       "16     2704554   12154    12408654  \n",
       "17       19271     202      200719  \n",
       "18        9106      46       51969  \n",
       "19      778584    8786    16708036  \n",
       "20     5733215  118313    28082920  \n",
       "21       54065    1055      572286  \n",
       "22       40574     785      604147  \n",
       "23       13667      85      445757  \n",
       "24       22055     475      409466  \n",
       "25      844801    3633    10137051  \n",
       "26      109990    1726      436106  \n",
       "27      570327   15854     6365480  \n",
       "28      939664    8901    21692192  \n",
       "29       16580     293      371503  \n",
       "30     2337209   31386    13078161  \n",
       "31      593577    3576           0  \n",
       "32       58181     654     2094009  \n",
       "33     1678089   22224    26322777  \n",
       "34      328799    7044     3675578  \n",
       "35     1443456   17390    19328213  "
      ],
      "text/html": "<div>\n<style scoped>\n    .dataframe tbody tr th:only-of-type {\n        vertical-align: middle;\n    }\n\n    .dataframe tbody tr th {\n        vertical-align: top;\n    }\n\n    .dataframe thead th {\n        text-align: right;\n    }\n</style>\n<table border=\"1\" class=\"dataframe\">\n  <thead>\n    <tr style=\"text-align: right;\">\n      <th></th>\n      <th>States</th>\n      <th>Confirmed caases</th>\n      <th>Active cases</th>\n      <th>Discharged</th>\n      <th>Deaths</th>\n      <th>Vaccinated</th>\n    </tr>\n  </thead>\n  <tbody>\n    <tr>\n      <th>0</th>\n      <td>Andaman and Nicobar</td>\n      <td>7415</td>\n      <td>97</td>\n      <td>7191</td>\n      <td>127</td>\n      <td>137476</td>\n    </tr>\n    <tr>\n      <th>1</th>\n      <td>Andhra Pradesh</td>\n      <td>1853183</td>\n      <td>58140</td>\n      <td>1782680</td>\n      <td>12363</td>\n      <td>13995490</td>\n    </tr>\n    <tr>\n      <th>2</th>\n      <td>Arunachal Pradesh</td>\n      <td>33375</td>\n      <td>2539</td>\n      <td>30677</td>\n      <td>159</td>\n      <td>494098</td>\n    </tr>\n    <tr>\n      <th>3</th>\n      <td>Assam</td>\n      <td>485310</td>\n      <td>32625</td>\n      <td>448442</td>\n      <td>4243</td>\n      <td>5719444</td>\n    </tr>\n    <tr>\n      <th>4</th>\n      <td>Bihar</td>\n      <td>719939</td>\n      <td>3017</td>\n      <td>707365</td>\n      <td>9557</td>\n      <td>14230305</td>\n    </tr>\n    <tr>\n      <th>5</th>\n      <td>Chandigarh</td>\n      <td>61444</td>\n      <td>311</td>\n      <td>60327</td>\n      <td>806</td>\n      <td>459476</td>\n    </tr>\n    <tr>\n      <th>6</th>\n      <td>Chhattisgarh</td>\n      <td>991171</td>\n      <td>8564</td>\n      <td>969212</td>\n      <td>13395</td>\n      <td>7654760</td>\n    </tr>\n    <tr>\n      <th>7</th>\n      <td>Dadra and Nagar Haveli and Daman and Diu</td>\n      <td>10516</td>\n      <td>60</td>\n      <td>10452</td>\n      <td>4</td>\n      <td>317181</td>\n    </tr>\n    <tr>\n      <th>8</th>\n      <td>Delhi</td>\n      <td>1432381</td>\n      <td>1996</td>\n      <td>1405460</td>\n      <td>24925</td>\n      <td>6602862</td>\n    </tr>\n    <tr>\n      <th>9</th>\n      <td>Goa</td>\n      <td>164654</td>\n      <td>3066</td>\n      <td>158591</td>\n      <td>2997</td>\n      <td>775698</td>\n    </tr>\n    <tr>\n      <th>10</th>\n      <td>Gujarat</td>\n      <td>822485</td>\n      <td>5639</td>\n      <td>806812</td>\n      <td>10034</td>\n      <td>22591453</td>\n    </tr>\n    <tr>\n      <th>11</th>\n      <td>Haryana</td>\n      <td>767580</td>\n      <td>2337</td>\n      <td>755968</td>\n      <td>9275</td>\n      <td>7855655</td>\n    </tr>\n    <tr>\n      <th>12</th>\n      <td>Himachal Pradesh</td>\n      <td>200603</td>\n      <td>2408</td>\n      <td>194747</td>\n      <td>3448</td>\n      <td>2918363</td>\n    </tr>\n    <tr>\n      <th>13</th>\n      <td>Jammu and Kashmir</td>\n      <td>312156</td>\n      <td>7759</td>\n      <td>300135</td>\n      <td>4262</td>\n      <td>4005925</td>\n    </tr>\n    <tr>\n      <th>14</th>\n      <td>Jharkhand</td>\n      <td>344665</td>\n      <td>1489</td>\n      <td>338076</td>\n      <td>5100</td>\n      <td>5874120</td>\n    </tr>\n    <tr>\n      <th>15</th>\n      <td>Karnataka</td>\n      <td>2811320</td>\n      <td>123156</td>\n      <td>2654139</td>\n      <td>34025</td>\n      <td>19607865</td>\n    </tr>\n    <tr>\n      <th>16</th>\n      <td>Kerala</td>\n      <td>2816843</td>\n      <td>100135</td>\n      <td>2704554</td>\n      <td>12154</td>\n      <td>12408654</td>\n    </tr>\n    <tr>\n      <th>17</th>\n      <td>Ladakh</td>\n      <td>19838</td>\n      <td>365</td>\n      <td>19271</td>\n      <td>202</td>\n      <td>200719</td>\n    </tr>\n    <tr>\n      <th>18</th>\n      <td>Lakshadweep</td>\n      <td>9471</td>\n      <td>319</td>\n      <td>9106</td>\n      <td>46</td>\n      <td>51969</td>\n    </tr>\n    <tr>\n      <th>19</th>\n      <td>Madhya Pradesh</td>\n      <td>789350</td>\n      <td>1980</td>\n      <td>778584</td>\n      <td>8786</td>\n      <td>16708036</td>\n    </tr>\n    <tr>\n      <th>20</th>\n      <td>Maharashtra</td>\n      <td>5979051</td>\n      <td>127523</td>\n      <td>5733215</td>\n      <td>118313</td>\n      <td>28082920</td>\n    </tr>\n    <tr>\n      <th>21</th>\n      <td>Manipur</td>\n      <td>64418</td>\n      <td>9298</td>\n      <td>54065</td>\n      <td>1055</td>\n      <td>572286</td>\n    </tr>\n    <tr>\n      <th>22</th>\n      <td>Meghalaya</td>\n      <td>45555</td>\n      <td>4196</td>\n      <td>40574</td>\n      <td>785</td>\n      <td>604147</td>\n    </tr>\n    <tr>\n      <th>23</th>\n      <td>Mizoram</td>\n      <td>17979</td>\n      <td>4227</td>\n      <td>13667</td>\n      <td>85</td>\n      <td>445757</td>\n    </tr>\n    <tr>\n      <th>24</th>\n      <td>Nagaland</td>\n      <td>24374</td>\n      <td>1844</td>\n      <td>22055</td>\n      <td>475</td>\n      <td>409466</td>\n    </tr>\n    <tr>\n      <th>25</th>\n      <td>Odisha</td>\n      <td>880533</td>\n      <td>32099</td>\n      <td>844801</td>\n      <td>3633</td>\n      <td>10137051</td>\n    </tr>\n    <tr>\n      <th>26</th>\n      <td>Puducherry</td>\n      <td>115080</td>\n      <td>3364</td>\n      <td>109990</td>\n      <td>1726</td>\n      <td>436106</td>\n    </tr>\n    <tr>\n      <th>27</th>\n      <td>Punjab</td>\n      <td>592658</td>\n      <td>6477</td>\n      <td>570327</td>\n      <td>15854</td>\n      <td>6365480</td>\n    </tr>\n    <tr>\n      <th>28</th>\n      <td>Rajasthan</td>\n      <td>951256</td>\n      <td>2691</td>\n      <td>939664</td>\n      <td>8901</td>\n      <td>21692192</td>\n    </tr>\n    <tr>\n      <th>29</th>\n      <td>Sikkim</td>\n      <td>19321</td>\n      <td>2448</td>\n      <td>16580</td>\n      <td>293</td>\n      <td>371503</td>\n    </tr>\n    <tr>\n      <th>30</th>\n      <td>Tamil Nadu</td>\n      <td>2429924</td>\n      <td>61329</td>\n      <td>2337209</td>\n      <td>31386</td>\n      <td>13078161</td>\n    </tr>\n    <tr>\n      <th>31</th>\n      <td>Telengana</td>\n      <td>614399</td>\n      <td>17246</td>\n      <td>593577</td>\n      <td>3576</td>\n      <td>0</td>\n    </tr>\n    <tr>\n      <th>32</th>\n      <td>Tripura</td>\n      <td>62745</td>\n      <td>3910</td>\n      <td>58181</td>\n      <td>654</td>\n      <td>2094009</td>\n    </tr>\n    <tr>\n      <th>33</th>\n      <td>Uttar Pradesh</td>\n      <td>1704476</td>\n      <td>4163</td>\n      <td>1678089</td>\n      <td>22224</td>\n      <td>26322777</td>\n    </tr>\n    <tr>\n      <th>34</th>\n      <td>Uttarakhand</td>\n      <td>338807</td>\n      <td>2964</td>\n      <td>328799</td>\n      <td>7044</td>\n      <td>3675578</td>\n    </tr>\n    <tr>\n      <th>35</th>\n      <td>West Bengal</td>\n      <td>1483586</td>\n      <td>22740</td>\n      <td>1443456</td>\n      <td>17390</td>\n      <td>19328213</td>\n    </tr>\n  </tbody>\n</table>\n</div>"
     },
     "metadata": {},
     "execution_count": 7
    }
   ],
   "source": [
    "df"
   ]
  },
  {
   "cell_type": "code",
   "execution_count": null,
   "metadata": {},
   "outputs": [],
   "source": []
  }
 ]
}